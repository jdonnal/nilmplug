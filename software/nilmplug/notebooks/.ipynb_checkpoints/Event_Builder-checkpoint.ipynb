{
 "cells": [
  {
   "cell_type": "markdown",
   "id": "42fb2e99",
   "metadata": {},
   "source": [
    "## Create Events from Plug Data"
   ]
  },
  {
   "cell_type": "code",
   "execution_count": 3,
   "id": "a45995f4",
   "metadata": {},
   "outputs": [],
   "source": [
    "import joule\n",
    "from joule.errors import ApiError"
   ]
  },
  {
   "cell_type": "code",
   "execution_count": 10,
   "id": "1dfcd1e2",
   "metadata": {},
   "outputs": [],
   "source": [
    "PLUG_STREAM = \"/plugs/keurig\"\n",
    "EVENT_STREAM = \"/plugs/events v2\"\n",
    "EVENT_NAME = \"K Fridge\"\n",
    "MIN_WATTS = 100\n",
    "REMOVE_EXISTING = True"
   ]
  },
  {
   "cell_type": "code",
   "execution_count": 12,
   "id": "b0f44448",
   "metadata": {},
   "outputs": [
    {
     "name": "stdout",
     "output_type": "stream",
     "text": [
      "node_66cd\n"
     ]
    }
   ],
   "source": [
    "node = joule.api.get_node()\n",
    "info = await node.info()\n",
    "print(info.name)\n",
    "plug_stream = await node.data_stream_get(PLUG_STREAM)\n",
    "try:\n",
    "    event_stream = await node.event_stream_get(EVENT_STREAM)\n",
    "except ApiError:\n",
    "    folder = \"/\".join(EVENT_STREAM.split('/')[:-1])\n",
    "    name = EVENT_STREAM.split('/')[-1:]\n",
    "    event_stream = joule.api.EventStream(name=name, event_fields = {\n",
    "        \"name\": \"string\",\n",
    "        \"average_power\": \"numeric\",\n",
    "        \"peak_power\": \"numeric\",\n",
    "        \"duration\": \"numeric\"\n",
    "    })\n",
    "    event_stream = await node.event_stream_create(event_stream, folder)"
   ]
  },
  {
   "cell_type": "code",
   "execution_count": null,
   "id": "5686d3ff",
   "metadata": {},
   "outputs": [],
   "source": [
    "if "
   ]
  }
 ],
 "metadata": {
  "kernelspec": {
   "display_name": "joule",
   "language": "python",
   "name": "joule"
  },
  "language_info": {
   "codemirror_mode": {
    "name": "ipython",
    "version": 3
   },
   "file_extension": ".py",
   "mimetype": "text/x-python",
   "name": "python",
   "nbconvert_exporter": "python",
   "pygments_lexer": "ipython3",
   "version": "3.8.10"
  }
 },
 "nbformat": 4,
 "nbformat_minor": 5
}
