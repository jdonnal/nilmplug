{
 "cells": [
  {
   "cell_type": "markdown",
   "id": "9cf4d9e6",
   "metadata": {},
   "source": [
    "## Create Events from Plug Data"
   ]
  },
  {
   "cell_type": "code",
   "execution_count": 3,
   "id": "61386083",
   "metadata": {},
   "outputs": [],
   "source": [
    "import joule\n",
    "from joule.errors import ApiError"
   ]
  },
  {
   "cell_type": "code",
   "execution_count": 15,
   "id": "0778375c",
   "metadata": {},
   "outputs": [],
   "source": [
    "PLUG_STREAM = \"/plugs/Kitchen Fridge\"\n",
    "EVENT_STREAM = \"/plugs/events v2\"\n",
    "EVENT_NAME = \"K Fridge\"\n",
    "MIN_WATTS = 100\n",
    "REMOVE_EXISTING = True"
   ]
  },
  {
   "cell_type": "code",
   "execution_count": 21,
   "id": "6c96c122",
   "metadata": {},
   "outputs": [
    {
     "name": "stderr",
     "output_type": "stream",
     "text": [
      "Unclosed client session\n",
      "client_session: <aiohttp.client.ClientSession object at 0x7faaf43f8fd0>\n"
     ]
    }
   ],
   "source": [
    "node = joule.api.get_node()\n",
    "\n",
    "plug_stream = await node.data_stream_get(PLUG_STREAM)\n",
    "try:\n",
    "    event_stream = await node.event_stream_get(EVENT_STREAM)\n",
    "except ApiError:\n",
    "    folder = \"/\".join(EVENT_STREAM.split('/')[:-1])\n",
    "    name = EVENT_STREAM.split('/')[-1]\n",
    "    event_stream = joule.api.EventStream(name=name, event_fields = {\n",
    "        \"name\": \"string\",\n",
    "        \"average_power\": \"numeric\",\n",
    "        \"peak_power\": \"numeric\",\n",
    "        \"duration\": \"numeric\"\n",
    "    })\n",
    "    event_stream = await node.event_stream_create(event_stream, folder)\n",
    "await node.close()"
   ]
  },
  {
   "cell_type": "code",
   "execution_count": 22,
   "id": "754f9ca3",
   "metadata": {},
   "outputs": [
    {
     "name": "stderr",
     "output_type": "stream",
     "text": [
      "Unclosed client session\n",
      "client_session: <aiohttp.client.ClientSession object at 0x7faaf43f8fd0>\n"
     ]
    },
    {
     "ename": "TypeError",
     "evalue": "event_stream_remove() got an unexpected keyword argument 'json_filter'",
     "output_type": "error",
     "traceback": [
      "\u001b[0;31m---------------------------------------------------------------------------\u001b[0m",
      "\u001b[0;31mTypeError\u001b[0m                                 Traceback (most recent call last)",
      "\u001b[0;32m/tmp/ipykernel_2186256/1649656994.py\u001b[0m in \u001b[0;36m<module>\u001b[0;34m\u001b[0m\n\u001b[1;32m      2\u001b[0m \u001b[0;34m\u001b[0m\u001b[0m\n\u001b[1;32m      3\u001b[0m \u001b[0;32mif\u001b[0m \u001b[0mREMOVE_EXISTING\u001b[0m\u001b[0;34m:\u001b[0m\u001b[0;34m\u001b[0m\u001b[0;34m\u001b[0m\u001b[0m\n\u001b[0;32m----> 4\u001b[0;31m     \u001b[0;32mawait\u001b[0m \u001b[0mnode\u001b[0m\u001b[0;34m.\u001b[0m\u001b[0mevent_stream_remove\u001b[0m\u001b[0;34m(\u001b[0m\u001b[0mevent_stream\u001b[0m\u001b[0;34m,\u001b[0m \u001b[0mjson_filter\u001b[0m\u001b[0;34m=\u001b[0m\u001b[0;34m[\u001b[0m\u001b[0;34m[\u001b[0m\u001b[0;34m[\u001b[0m\u001b[0;34m'name'\u001b[0m\u001b[0;34m,\u001b[0m\u001b[0;34m'is'\u001b[0m\u001b[0;34m,\u001b[0m\u001b[0mEVENT_NAME\u001b[0m\u001b[0;34m]\u001b[0m\u001b[0;34m]\u001b[0m\u001b[0;34m]\u001b[0m\u001b[0;34m)\u001b[0m\u001b[0;34m\u001b[0m\u001b[0;34m\u001b[0m\u001b[0m\n\u001b[0m\u001b[1;32m      5\u001b[0m \u001b[0;34m\u001b[0m\u001b[0m\n",
      "\u001b[0;31mTypeError\u001b[0m: event_stream_remove() got an unexpected keyword argument 'json_filter'"
     ]
    }
   ],
   "source": [
    "node = joule.api.get_node()\n",
    "\n",
    "if REMOVE_EXISTING:\n",
    "    await node.event_stream_remove(event_stream, json_filter=[[['name','is',EVENT_NAME]]])\n",
    "    "
   ]
  },
  {
   "cell_type": "code",
   "execution_count": null,
   "id": "8beba9bc",
   "metadata": {},
   "outputs": [],
   "source": [
    "await node.close()"
   ]
  }
 ],
 "metadata": {
  "kernelspec": {
   "display_name": "joule",
   "language": "python",
   "name": "joule"
  },
  "language_info": {
   "codemirror_mode": {
    "name": "ipython",
    "version": 3
   },
   "file_extension": ".py",
   "mimetype": "text/x-python",
   "name": "python",
   "nbconvert_exporter": "python",
   "pygments_lexer": "ipython3",
   "version": "3.8.10"
  }
 },
 "nbformat": 4,
 "nbformat_minor": 5
}
