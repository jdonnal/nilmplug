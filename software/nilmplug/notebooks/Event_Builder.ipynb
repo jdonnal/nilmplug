{
 "cells": [
  {
   "cell_type": "markdown",
   "id": "9cf4d9e6",
   "metadata": {},
   "source": [
    "## Create Events from Plug Data"
   ]
  },
  {
   "cell_type": "code",
   "execution_count": 6,
   "id": "61386083",
   "metadata": {},
   "outputs": [],
   "source": [
    "import json\n",
    "import joule\n",
    "from joule.errors import ApiError"
   ]
  },
  {
   "cell_type": "code",
   "execution_count": 2,
   "id": "0778375c",
   "metadata": {},
   "outputs": [],
   "source": [
    "PLUG_STREAM = \"/plugs/chest_freezer\"\n",
    "EVENT_STREAM = \"/plugs/chest freezer2\"\n",
    "LOAD_NAME = \"Chest Freeezer\"\n",
    "NODE = \"vagrant\"\n",
    "MIN_WATTS = 20\n",
    "REMOVE_EXISTING = True"
   ]
  },
  {
   "cell_type": "code",
   "execution_count": 3,
   "id": "6c96c122",
   "metadata": {},
   "outputs": [],
   "source": [
    "node = joule.api.get_node(NODE)\n",
    "\n",
    "plug_stream = await node.data_stream_get(PLUG_STREAM)\n",
    "try:\n",
    "    event_stream = await node.event_stream_get(EVENT_STREAM)\n",
    "except ApiError:\n",
    "    folder = \"/\".join(EVENT_STREAM.split('/')[:-1])\n",
    "    name = EVENT_STREAM.split('/')[-1]\n",
    "    event_stream = joule.api.EventStream(name=name, event_fields = {\n",
    "        \"name\": \"string\",\n",
    "        \"average_power\": \"numeric\",\n",
    "        \"kwh\": \"numeric\",\n",
    "        \"peak_power\": \"numeric\",\n",
    "        \"duration\": \"numeric\"\n",
    "    })\n",
    "    event_stream = await node.event_stream_create(event_stream, folder)\n",
    "await node.close()"
   ]
  },
  {
   "cell_type": "code",
   "execution_count": 10,
   "id": "754f9ca3",
   "metadata": {},
   "outputs": [],
   "source": [
    "node = joule.api.get_node()\n",
    "\n",
    "if REMOVE_EXISTING:\n",
    "    json_filter = json.dumps([[['name','is',LOAD_NAME],['peak_power','gt',100.5]]])\n",
    "    await node.event_stream_remove(event_stream, json_filter=json_filter)\n",
    "await node.close()"
   ]
  },
  {
   "cell_type": "code",
   "execution_count": 9,
   "id": "8beba9bc",
   "metadata": {},
   "outputs": [
    {
     "name": "stderr",
     "output_type": "stream",
     "text": [
      "Unclosed client session\n",
      "client_session: <aiohttp.client.ClientSession object at 0x7f45174b85b0>\n"
     ]
    },
    {
     "name": "stdout",
     "output_type": "stream",
     "text": [
      "read 445 rows\n",
      "added event\n",
      "added event\n",
      "added event\n",
      "added event\n",
      "added event\n",
      "added event\n",
      "read 10751 rows\n",
      "added event\n",
      "added event\n",
      "added event\n",
      "added event\n",
      "added event\n",
      "read 7794 rows\n"
     ]
    }
   ],
   "source": [
    "node = joule.api.get_node(NODE)\n",
    "pipe = await node.data_read(plug_stream)\n",
    "peak_power = None\n",
    "start_row = None\n",
    "power_acc = 0\n",
    "run_ticks = 0\n",
    "while not pipe.is_empty():\n",
    "    data = await pipe.read(flatten=True)\n",
    "    pipe.consume(len(data))\n",
    "    for row in data:\n",
    "        if row[3]>MIN_WATTS and start_row is None:\n",
    "            start_row = row\n",
    "            peak_power = row[3]\n",
    "            power_acc = row[3]\n",
    "            run_ticks = 1\n",
    "        if start_row is not None:\n",
    "            peak_power = max((peak_power, row[3]))\n",
    "            power_acc += row[3]\n",
    "            run_ticks += 1\n",
    "        if start_row is not None and row[3]<MIN_WATTS:\n",
    "            event = joule.api.Event(start_row[0],row[0])\n",
    "            event.content = {\n",
    "                'average_power': power_acc/run_ticks,\n",
    "                'kwh': row[7]-start_row[7],\n",
    "                'name': LOAD_NAME,\n",
    "                'peak_power': peak_power,\n",
    "                'duration': (row[0]-start_row[0])/1e6\n",
    "            }\n",
    "            await node.event_stream_write(event_stream, [event])\n",
    "            print(\"added event\")\n",
    "            start_row = None\n",
    "            peak_power = None\n",
    "            power_acc = 0\n",
    "            run_ticks = 0\n",
    "    print(f\"read {len(data)} rows\")\n",
    "await node.close()"
   ]
  },
  {
   "cell_type": "code",
   "execution_count": null,
   "id": "matched-attack",
   "metadata": {},
   "outputs": [],
   "source": []
  }
 ],
 "metadata": {
  "kernelspec": {
   "display_name": "joule",
   "language": "python",
   "name": "joule"
  },
  "language_info": {
   "codemirror_mode": {
    "name": "ipython",
    "version": 3
   },
   "file_extension": ".py",
   "mimetype": "text/x-python",
   "name": "python",
   "nbconvert_exporter": "python",
   "pygments_lexer": "ipython3",
   "version": "3.8.10"
  }
 },
 "nbformat": 4,
 "nbformat_minor": 5
}
